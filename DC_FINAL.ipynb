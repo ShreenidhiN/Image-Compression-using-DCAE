{
  "nbformat": 4,
  "nbformat_minor": 0,
  "metadata": {
    "colab": {
      "name": "DC FINAL.ipynb",
      "provenance": [],
      "collapsed_sections": []
    },
    "kernelspec": {
      "display_name": "Python 3",
      "language": "python",
      "name": "python3"
    },
    "language_info": {
      "codemirror_mode": {
        "name": "ipython",
        "version": 3
      },
      "file_extension": ".py",
      "mimetype": "text/x-python",
      "name": "python",
      "nbconvert_exporter": "python",
      "pygments_lexer": "ipython3",
      "version": "3.6.7"
    },
    "widgets": {
      "application/vnd.jupyter.widget-state+json": {
        "aa55d2a9d14b4e6b9e398827c46ca928": {
          "model_module": "@jupyter-widgets/controls",
          "model_name": "HBoxModel",
          "state": {
            "_view_name": "HBoxView",
            "_dom_classes": [],
            "_model_name": "HBoxModel",
            "_view_module": "@jupyter-widgets/controls",
            "_model_module_version": "1.5.0",
            "_view_count": null,
            "_view_module_version": "1.5.0",
            "box_style": "",
            "layout": "IPY_MODEL_4a2249745950424d94cc5f26c13f1c83",
            "_model_module": "@jupyter-widgets/controls",
            "children": [
              "IPY_MODEL_d8f5a68ea46c4f2abbbe1a8cf349659a",
              "IPY_MODEL_3c105564ddf543ab92ac4cec943f06db"
            ]
          }
        },
        "4a2249745950424d94cc5f26c13f1c83": {
          "model_module": "@jupyter-widgets/base",
          "model_name": "LayoutModel",
          "state": {
            "_view_name": "LayoutView",
            "grid_template_rows": null,
            "right": null,
            "justify_content": null,
            "_view_module": "@jupyter-widgets/base",
            "overflow": null,
            "_model_module_version": "1.2.0",
            "_view_count": null,
            "flex_flow": null,
            "width": null,
            "min_width": null,
            "border": null,
            "align_items": null,
            "bottom": null,
            "_model_module": "@jupyter-widgets/base",
            "top": null,
            "grid_column": null,
            "overflow_y": null,
            "overflow_x": null,
            "grid_auto_flow": null,
            "grid_area": null,
            "grid_template_columns": null,
            "flex": null,
            "_model_name": "LayoutModel",
            "justify_items": null,
            "grid_row": null,
            "max_height": null,
            "align_content": null,
            "visibility": null,
            "align_self": null,
            "height": null,
            "min_height": null,
            "padding": null,
            "grid_auto_rows": null,
            "grid_gap": null,
            "max_width": null,
            "order": null,
            "_view_module_version": "1.2.0",
            "grid_template_areas": null,
            "object_position": null,
            "object_fit": null,
            "grid_auto_columns": null,
            "margin": null,
            "display": null,
            "left": null
          }
        },
        "d8f5a68ea46c4f2abbbe1a8cf349659a": {
          "model_module": "@jupyter-widgets/controls",
          "model_name": "FloatProgressModel",
          "state": {
            "_view_name": "ProgressView",
            "style": "IPY_MODEL_c3ff0c8094ad41489c27bb6c71738a9d",
            "_dom_classes": [],
            "description": "",
            "_model_name": "FloatProgressModel",
            "bar_style": "success",
            "max": 170498071,
            "_view_module": "@jupyter-widgets/controls",
            "_model_module_version": "1.5.0",
            "value": 170498071,
            "_view_count": null,
            "_view_module_version": "1.5.0",
            "orientation": "horizontal",
            "min": 0,
            "description_tooltip": null,
            "_model_module": "@jupyter-widgets/controls",
            "layout": "IPY_MODEL_2bbcce59c4444cb8bf533a42f9c4b2d8"
          }
        },
        "3c105564ddf543ab92ac4cec943f06db": {
          "model_module": "@jupyter-widgets/controls",
          "model_name": "HTMLModel",
          "state": {
            "_view_name": "HTMLView",
            "style": "IPY_MODEL_9b9a297332294833a9af662ffe0d7b51",
            "_dom_classes": [],
            "description": "",
            "_model_name": "HTMLModel",
            "placeholder": "​",
            "_view_module": "@jupyter-widgets/controls",
            "_model_module_version": "1.5.0",
            "value": " 170499072/? [00:09&lt;00:00, 17544711.69it/s]",
            "_view_count": null,
            "_view_module_version": "1.5.0",
            "description_tooltip": null,
            "_model_module": "@jupyter-widgets/controls",
            "layout": "IPY_MODEL_f21a75290b6b4d83a03b4697a48d4872"
          }
        },
        "c3ff0c8094ad41489c27bb6c71738a9d": {
          "model_module": "@jupyter-widgets/controls",
          "model_name": "ProgressStyleModel",
          "state": {
            "_view_name": "StyleView",
            "_model_name": "ProgressStyleModel",
            "description_width": "initial",
            "_view_module": "@jupyter-widgets/base",
            "_model_module_version": "1.5.0",
            "_view_count": null,
            "_view_module_version": "1.2.0",
            "bar_color": null,
            "_model_module": "@jupyter-widgets/controls"
          }
        },
        "2bbcce59c4444cb8bf533a42f9c4b2d8": {
          "model_module": "@jupyter-widgets/base",
          "model_name": "LayoutModel",
          "state": {
            "_view_name": "LayoutView",
            "grid_template_rows": null,
            "right": null,
            "justify_content": null,
            "_view_module": "@jupyter-widgets/base",
            "overflow": null,
            "_model_module_version": "1.2.0",
            "_view_count": null,
            "flex_flow": null,
            "width": null,
            "min_width": null,
            "border": null,
            "align_items": null,
            "bottom": null,
            "_model_module": "@jupyter-widgets/base",
            "top": null,
            "grid_column": null,
            "overflow_y": null,
            "overflow_x": null,
            "grid_auto_flow": null,
            "grid_area": null,
            "grid_template_columns": null,
            "flex": null,
            "_model_name": "LayoutModel",
            "justify_items": null,
            "grid_row": null,
            "max_height": null,
            "align_content": null,
            "visibility": null,
            "align_self": null,
            "height": null,
            "min_height": null,
            "padding": null,
            "grid_auto_rows": null,
            "grid_gap": null,
            "max_width": null,
            "order": null,
            "_view_module_version": "1.2.0",
            "grid_template_areas": null,
            "object_position": null,
            "object_fit": null,
            "grid_auto_columns": null,
            "margin": null,
            "display": null,
            "left": null
          }
        },
        "9b9a297332294833a9af662ffe0d7b51": {
          "model_module": "@jupyter-widgets/controls",
          "model_name": "DescriptionStyleModel",
          "state": {
            "_view_name": "StyleView",
            "_model_name": "DescriptionStyleModel",
            "description_width": "",
            "_view_module": "@jupyter-widgets/base",
            "_model_module_version": "1.5.0",
            "_view_count": null,
            "_view_module_version": "1.2.0",
            "_model_module": "@jupyter-widgets/controls"
          }
        },
        "f21a75290b6b4d83a03b4697a48d4872": {
          "model_module": "@jupyter-widgets/base",
          "model_name": "LayoutModel",
          "state": {
            "_view_name": "LayoutView",
            "grid_template_rows": null,
            "right": null,
            "justify_content": null,
            "_view_module": "@jupyter-widgets/base",
            "overflow": null,
            "_model_module_version": "1.2.0",
            "_view_count": null,
            "flex_flow": null,
            "width": null,
            "min_width": null,
            "border": null,
            "align_items": null,
            "bottom": null,
            "_model_module": "@jupyter-widgets/base",
            "top": null,
            "grid_column": null,
            "overflow_y": null,
            "overflow_x": null,
            "grid_auto_flow": null,
            "grid_area": null,
            "grid_template_columns": null,
            "flex": null,
            "_model_name": "LayoutModel",
            "justify_items": null,
            "grid_row": null,
            "max_height": null,
            "align_content": null,
            "visibility": null,
            "align_self": null,
            "height": null,
            "min_height": null,
            "padding": null,
            "grid_auto_rows": null,
            "grid_gap": null,
            "max_width": null,
            "order": null,
            "_view_module_version": "1.2.0",
            "grid_template_areas": null,
            "object_position": null,
            "object_fit": null,
            "grid_auto_columns": null,
            "margin": null,
            "display": null,
            "left": null
          }
        }
      }
    }
  },
  "cells": [
    {
      "cell_type": "markdown",
      "metadata": {
        "id": "bYws2yXtuPQW"
      },
      "source": [
        "\n",
        "# **DATA COMPRESSION**\n",
        "\n",
        "\n"
      ]
    },
    {
      "cell_type": "markdown",
      "metadata": {
        "id": "ng_Q2N_w9wSg"
      },
      "source": [
        "# **Deep Convolutional AutoEncoder-based Lossy Image Compression**"
      ]
    },
    {
      "cell_type": "markdown",
      "metadata": {
        "id": "Kgfc20TNwPcn"
      },
      "source": [
        "Link to the Research paper :\n",
        "[Paper](https://ieeexplore.ieee.org/abstract/document/8456308 )"
      ]
    },
    {
      "cell_type": "markdown",
      "metadata": {
        "id": "vXkTcCHdw3sT"
      },
      "source": [
        "**Link to my drive**"
      ]
    },
    {
      "cell_type": "code",
      "metadata": {
        "colab": {
          "base_uri": "https://localhost:8080/"
        },
        "id": "h85dREeQ-sEt",
        "outputId": "5eff2f94-76a0-4ed0-efcd-0f23a3b02648"
      },
      "source": [
        "from google.colab import drive\n",
        "drive.mount('/content/drive')"
      ],
      "execution_count": null,
      "outputs": [
        {
          "output_type": "stream",
          "text": [
            "Mounted at /content/drive\n"
          ],
          "name": "stdout"
        }
      ]
    },
    {
      "cell_type": "markdown",
      "metadata": {
        "id": "AQyXL-3V8_2p"
      },
      "source": [
        "**Import required libraries**"
      ]
    },
    {
      "cell_type": "code",
      "metadata": {
        "id": "uFEt7wGXP_aE"
      },
      "source": [
        "import os\n",
        "import numpy as np\n",
        "import torch\n",
        "import torch.nn as nn\n",
        "from torch.utils.data import DataLoader\n",
        "from torch.utils.data import sampler\n",
        "from torchvision import datasets, transforms\n",
        "from torchvision.utils import save_image, make_grid\n",
        "import torch.nn.functional as F\n",
        "import matplotlib.pyplot as plt\n",
        "\n"
      ],
      "execution_count": null,
      "outputs": []
    },
    {
      "cell_type": "markdown",
      "metadata": {
        "id": "ocPIzuQRdNyJ"
      },
      "source": [
        "**Denormalize**"
      ]
    },
    {
      "cell_type": "code",
      "metadata": {
        "id": "O40qAkdLdGI7"
      },
      "source": [
        "def denorm(x, channels=None, w=None ,h=None, resize = False):\n",
        "    x = 0.5 * (x + 1)\n",
        "    x = x.clamp(0, 1)\n",
        "    if resize:\n",
        "        if channels is None or w is None or h is None:\n",
        "            print('Number of channels, width and height must be provided for resize.')\n",
        "        x = x.view(x.size(0), channels, w, h)\n",
        "    return x\n"
      ],
      "execution_count": null,
      "outputs": []
    },
    {
      "cell_type": "markdown",
      "metadata": {
        "id": "QK9oDMYndTBh"
      },
      "source": [
        "**Show image**"
      ]
    },
    {
      "cell_type": "code",
      "metadata": {
        "id": "S47FTO5TdKAu"
      },
      "source": [
        "\n",
        "def show(img):\n",
        "    if torch.cuda.is_available():\n",
        "        img = img.cpu()\n",
        "    npimg = img.numpy()\n",
        "    plt.imshow(np.transpose(npimg, (1,2,0)))\n"
      ],
      "execution_count": null,
      "outputs": []
    },
    {
      "cell_type": "markdown",
      "metadata": {
        "id": "Q7chG5g8RmXb"
      },
      "source": [
        "**Device Selection**"
      ]
    },
    {
      "cell_type": "code",
      "metadata": {
        "colab": {
          "base_uri": "https://localhost:8080/"
        },
        "id": "zi6L64YuQsLS",
        "outputId": "0915ba4a-acc2-43dd-aaaf-e817dfa35917"
      },
      "source": [
        "GPU = True\n",
        "device_idx = 0\n",
        "if GPU:\n",
        "    device = torch.device(\"cuda:\" + str(device_idx) if torch.cuda.is_available() else \"cpu\")\n",
        "else:\n",
        "    device = torch.device(\"cpu\")\n",
        "print(device)"
      ],
      "execution_count": null,
      "outputs": [
        {
          "output_type": "stream",
          "text": [
            "cpu\n"
          ],
          "name": "stdout"
        }
      ]
    },
    {
      "cell_type": "markdown",
      "metadata": {
        "id": "fW1JliszuFcc"
      },
      "source": [
        "**Reproducibility**"
      ]
    },
    {
      "cell_type": "code",
      "metadata": {
        "scrolled": true,
        "colab": {
          "base_uri": "https://localhost:8080/"
        },
        "id": "mDRoU23quFcc",
        "outputId": "38005a45-6746-4a8e-db6d-ade328c0a2a6"
      },
      "source": [
        "# We set a random seed to ensure that your results are reproducible.\n",
        "if torch.cuda.is_available():\n",
        "    torch.backends.cudnn.deterministic = True\n",
        "torch.manual_seed(0)"
      ],
      "execution_count": null,
      "outputs": [
        {
          "output_type": "execute_result",
          "data": {
            "text/plain": [
              "<torch._C.Generator at 0x7f6b32d64e10>"
            ]
          },
          "metadata": {
            "tags": []
          },
          "execution_count": 5
        }
      ]
    },
    {
      "cell_type": "markdown",
      "metadata": {
        "id": "VijXP_XbuFcd"
      },
      "source": [
        "**Data loading**"
      ]
    },
    {
      "cell_type": "code",
      "metadata": {
        "colab": {
          "base_uri": "https://localhost:8080/",
          "height": 138,
          "referenced_widgets": [
            "aa55d2a9d14b4e6b9e398827c46ca928",
            "4a2249745950424d94cc5f26c13f1c83",
            "d8f5a68ea46c4f2abbbe1a8cf349659a",
            "3c105564ddf543ab92ac4cec943f06db",
            "c3ff0c8094ad41489c27bb6c71738a9d",
            "2bbcce59c4444cb8bf533a42f9c4b2d8",
            "9b9a297332294833a9af662ffe0d7b51",
            "f21a75290b6b4d83a03b4697a48d4872"
          ]
        },
        "id": "lGp7bcEXuFce",
        "outputId": "de5d505a-a547-4e14-8955-85d871bb6e99"
      },
      "source": [
        "batch_size = 128\n",
        "\n",
        "if not os.path.exists('/content/drive/MyDrive/DC Package/CW/CAE'):\n",
        "    os.makedirs('/content/drive/MyDrive/DC Package/CW/CAE')\n",
        "\n",
        "\n",
        "\n",
        "NUM_TRAIN = 49000\n",
        "#Converting data to torch.FloatTensor - matrix containing elements of float type and normalizing the image\n",
        "transform = transforms.Compose([\n",
        "     transforms.ToTensor(),\n",
        "     transforms.Normalize(mean=(0.5, 0.5, 0.5), std=(0.5, 0.5, 0.5))\n",
        "])\n",
        "\n",
        "\n",
        "transform_test = transforms.Compose([\n",
        "    transforms.ToTensor(),\n",
        "    transforms.Normalize(mean=(0.5, 0.5, 0.5), std=(0.5, 0.5, 0.5)),\n",
        "])\n",
        "\n",
        "transform_train = transforms.Compose([\n",
        "    transforms.RandomCrop(32, padding=4),\n",
        "    transforms.RandomHorizontalFlip(),\n",
        "    transforms.ToTensor(),\n",
        "    transforms.Normalize(mean=(0.5, 0.5, 0.5), std=(0.5, 0.5, 0.5)),\n",
        "])\n",
        "\n",
        "\n",
        "data_dir = './datasets'\n",
        "cifar10_train = datasets.CIFAR10(data_dir, train=True, download=True,\n",
        "                             transform=transform_train)\n",
        "cifar10_val = datasets.CIFAR10(data_dir, train=True, download=True,\n",
        "                           transform=transform_test)\n",
        "cifar10_test = datasets.CIFAR10(data_dir, train=False, download=True, \n",
        "                            transform=transform_test)\n",
        "\n",
        "#Prepare data loaders used for training and testing\n",
        "loader_train = DataLoader(cifar10_train, batch_size=batch_size, \n",
        "                          sampler=sampler.SubsetRandomSampler(range(NUM_TRAIN)))\n",
        "loader_val = DataLoader(cifar10_val, batch_size=batch_size, \n",
        "                        sampler=sampler.SubsetRandomSampler(range(NUM_TRAIN, 50000)))\n",
        "loader_test = DataLoader(cifar10_test, batch_size=batch_size)\n",
        "\n",
        "#Obtain one batch of training images\n",
        "it = iter(loader_test)\n",
        "sample_inputs, _ = next(it)\n",
        "fixed_input = sample_inputs[0:32, :, :, :]\n",
        "save_image(denorm(fixed_input), '/content/drive/MyDrive/DC Package/CW/CAE/input_sample.png')"
      ],
      "execution_count": null,
      "outputs": [
        {
          "output_type": "stream",
          "text": [
            "Downloading https://www.cs.toronto.edu/~kriz/cifar-10-python.tar.gz to ./datasets/cifar-10-python.tar.gz\n"
          ],
          "name": "stdout"
        },
        {
          "output_type": "display_data",
          "data": {
            "application/vnd.jupyter.widget-view+json": {
              "model_id": "aa55d2a9d14b4e6b9e398827c46ca928",
              "version_minor": 0,
              "version_major": 2
            },
            "text/plain": [
              "HBox(children=(FloatProgress(value=0.0, max=170498071.0), HTML(value='')))"
            ]
          },
          "metadata": {
            "tags": []
          }
        },
        {
          "output_type": "stream",
          "text": [
            "\n",
            "Extracting ./datasets/cifar-10-python.tar.gz to ./datasets\n",
            "Files already downloaded and verified\n",
            "Files already downloaded and verified\n"
          ],
          "name": "stdout"
        }
      ]
    },
    {
      "cell_type": "markdown",
      "metadata": {
        "id": "92erCS_kuFcf"
      },
      "source": [
        "##  **Convolutional Autoencoder** "
      ]
    },
    {
      "cell_type": "markdown",
      "metadata": {
        "id": "qUhtasA2uFcf"
      },
      "source": [
        "**Hyper-parameter selection**"
      ]
    },
    {
      "cell_type": "code",
      "metadata": {
        "id": "pw2p43veuFcf"
      },
      "source": [
        "\n",
        "### Choose the number of epochs and the learning rate.\n",
        "num_epochs = 20\n",
        "learning_rate  = 0.002"
      ],
      "execution_count": null,
      "outputs": []
    },
    {
      "cell_type": "markdown",
      "metadata": {
        "id": "imWsIyWCuFcg"
      },
      "source": [
        "**Define model**"
      ]
    },
    {
      "cell_type": "code",
      "metadata": {
        "id": "esuSI4DVuFcg"
      },
      "source": [
        "\n",
        "### Choose a value for the latent space dimension and use it in your model\n",
        "#16x4x4 - fully convolutional AE\n",
        "hidden_size = 256 \n",
        "\n",
        "def make_conv_bn_relu(in_channels, out_channels, kernel_size=3, stride=1, padding=1):\n",
        "    return [\n",
        "        nn.Conv2d(in_channels, out_channels, kernel_size=kernel_size,  stride=stride, padding=padding, bias=False),\n",
        "        nn.BatchNorm2d(out_channels),\n",
        "        nn.LeakyReLU(inplace=True, negative_slope=0.2)]\n",
        "\n",
        "def make_transconv_bn_relu(in_channels, out_channels, kernel_size=3, stride=2, padding=0):\n",
        "    return [\n",
        "        nn.ConvTranspose2d(in_channels, out_channels, kernel_size=kernel_size,  stride=stride, padding=padding, bias=False),\n",
        "        nn.BatchNorm2d(out_channels),\n",
        "        nn.ReLU(inplace=True)]\n",
        "\n",
        "def make_transconv_tanh_final(in_channels, out_channels, kernel_size=3, stride=2, padding=0):\n",
        "    return [\n",
        "        nn.ConvTranspose2d(in_channels, out_channels, kernel_size=kernel_size,  stride=stride, padding=padding, bias=False),\n",
        "        nn.Tanh()]\n",
        "\n",
        "class CAE(nn.Module):\n",
        "    def __init__(self):\n",
        "        super(CAE, self).__init__()\n",
        "        \n",
        "        #Downsampling part\n",
        "        self.down1 = nn.Sequential(\n",
        "            *make_conv_bn_relu(3, 64, kernel_size=3, stride=2, padding=1 ))\n",
        "        \n",
        "        self.down2 = nn.Sequential(\n",
        "            *make_conv_bn_relu(64, 32, kernel_size=3, stride=2, padding=1 ))\n",
        "        \n",
        "        self.down3 = nn.Sequential(\n",
        "            *make_conv_bn_relu(32, 16, kernel_size=3, stride=2, padding=1 ))\n",
        "        \n",
        "        self.up1 = nn.Sequential(\n",
        "            *make_transconv_bn_relu(16, 32, kernel_size=2, stride=2))\n",
        "        \n",
        "        self.up2 = nn.Sequential(\n",
        "            *make_transconv_bn_relu(32, 64, kernel_size=2, stride=2))\n",
        "        \n",
        "        self.up3 = nn.Sequential(\n",
        "            *make_transconv_tanh_final(64, 3, kernel_size=2, stride=2))\n",
        "        \n",
        "\n",
        "\n",
        "    def encode(self, x):\n",
        "        \n",
        "\n",
        "        x = self.down1(x)\n",
        "        #x = self.maxpool(x)\n",
        "        #print(x.size())\n",
        "        x = self.down2(x)\n",
        "        #x = self.maxpool(x)\n",
        "        #print(x.size())\n",
        "        x = self.down3(x)\n",
        "        #x = self.maxpool(x)\n",
        "        #print(x.size())\n",
        "        \n",
        "        ### Here the image is compressed\n",
        "        return x\n",
        "\n",
        "    \n",
        "    def decode(self, z):\n",
        "\n",
        "        z=self.up1(z)\n",
        "        #print(z.size())\n",
        "        z=self.up2(z)\n",
        "        #print(z.size())\n",
        "        z=self.up3(z)\n",
        "        #print(z.size())\n",
        "        return z\n",
        "\n",
        "\n",
        "    def forward(self, x):\n",
        "        z = self.encode(x)\n",
        "        recon = self.decode(z)\n",
        "        return recon"
      ],
      "execution_count": null,
      "outputs": []
    },
    {
      "cell_type": "markdown",
      "metadata": {
        "id": "59nsxcOGuFci"
      },
      "source": [
        "\n",
        "**Define Loss function**"
      ]
    },
    {
      "cell_type": "code",
      "metadata": {
        "id": "z2OraPB-uFci"
      },
      "source": [
        "# measuring mean square error\n",
        "# other loss functions : MAE,negative log likelihood\n",
        "criterion = nn.MSELoss() \n",
        "\n",
        "def loss_function_CAE(recon_x, x):\n",
        "    recon_loss = criterion(recon_x, x)\n",
        "    return recon_loss"
      ],
      "execution_count": null,
      "outputs": []
    },
    {
      "cell_type": "markdown",
      "metadata": {
        "id": "X4vmsBriuFcj"
      },
      "source": [
        "**Initialize Model and print number of parameters**"
      ]
    },
    {
      "cell_type": "code",
      "metadata": {
        "colab": {
          "base_uri": "https://localhost:8080/"
        },
        "id": "3e_u4H_fuFcj",
        "outputId": "ee7b77c2-f651-488b-a4f4-fbface857052"
      },
      "source": [
        "model = CAE().to(device)\n",
        "params = sum(p.numel() for p in model.parameters() if p.requires_grad)\n",
        "print(\"Total number of parameters is: {}\".format(params))\n",
        "print(model)"
      ],
      "execution_count": null,
      "outputs": [
        {
          "output_type": "stream",
          "text": [
            "Total number of parameters is: 36192\n",
            "CAE(\n",
            "  (down1): Sequential(\n",
            "    (0): Conv2d(3, 64, kernel_size=(3, 3), stride=(2, 2), padding=(1, 1), bias=False)\n",
            "    (1): BatchNorm2d(64, eps=1e-05, momentum=0.1, affine=True, track_running_stats=True)\n",
            "    (2): LeakyReLU(negative_slope=0.2, inplace=True)\n",
            "  )\n",
            "  (down2): Sequential(\n",
            "    (0): Conv2d(64, 32, kernel_size=(3, 3), stride=(2, 2), padding=(1, 1), bias=False)\n",
            "    (1): BatchNorm2d(32, eps=1e-05, momentum=0.1, affine=True, track_running_stats=True)\n",
            "    (2): LeakyReLU(negative_slope=0.2, inplace=True)\n",
            "  )\n",
            "  (down3): Sequential(\n",
            "    (0): Conv2d(32, 16, kernel_size=(3, 3), stride=(2, 2), padding=(1, 1), bias=False)\n",
            "    (1): BatchNorm2d(16, eps=1e-05, momentum=0.1, affine=True, track_running_stats=True)\n",
            "    (2): LeakyReLU(negative_slope=0.2, inplace=True)\n",
            "  )\n",
            "  (up1): Sequential(\n",
            "    (0): ConvTranspose2d(16, 32, kernel_size=(2, 2), stride=(2, 2), bias=False)\n",
            "    (1): BatchNorm2d(32, eps=1e-05, momentum=0.1, affine=True, track_running_stats=True)\n",
            "    (2): ReLU(inplace=True)\n",
            "  )\n",
            "  (up2): Sequential(\n",
            "    (0): ConvTranspose2d(32, 64, kernel_size=(2, 2), stride=(2, 2), bias=False)\n",
            "    (1): BatchNorm2d(64, eps=1e-05, momentum=0.1, affine=True, track_running_stats=True)\n",
            "    (2): ReLU(inplace=True)\n",
            "  )\n",
            "  (up3): Sequential(\n",
            "    (0): ConvTranspose2d(64, 3, kernel_size=(2, 2), stride=(2, 2), bias=False)\n",
            "    (1): Tanh()\n",
            "  )\n",
            ")\n"
          ],
          "name": "stdout"
        }
      ]
    },
    {
      "cell_type": "markdown",
      "metadata": {
        "id": "-OV0HDGtuFcj"
      },
      "source": [
        "**Choose and initialize optimizer**"
      ]
    },
    {
      "cell_type": "code",
      "metadata": {
        "id": "kQoJeTU1uFcj"
      },
      "source": [
        "optimizer = torch.optim.Adam(model.parameters(), lr=learning_rate)"
      ],
      "execution_count": null,
      "outputs": []
    },
    {
      "cell_type": "markdown",
      "metadata": {
        "id": "UuF1NZURuFck"
      },
      "source": [
        "**Train**"
      ]
    },
    {
      "cell_type": "code",
      "metadata": {
        "colab": {
          "base_uri": "https://localhost:8080/"
        },
        "id": "_scVAuQSuFck",
        "outputId": "f7a37597-61b5-4c0f-930a-adbc7dcf3281"
      },
      "source": [
        "train_losses = []\n",
        "model.train()\n",
        "for epoch in range(num_epochs):\n",
        "    train_loss = 0\n",
        "    for batch_idx, data in enumerate(loader_train):\n",
        "        img, _ = data\n",
        "        img = img.to(device)\n",
        "        optimizer.zero_grad()\n",
        "        # forward\n",
        "        recon_batch = model(img)\n",
        "        loss = loss_function_CAE(recon_batch, img)\n",
        "        # backward\n",
        "        loss.backward()\n",
        "        train_loss += loss.item()\n",
        "        optimizer.step()\n",
        "    # print out losses and save reconstructions for every epoch\n",
        "    print('epoch [{}/{}], loss:{:.4f}'\n",
        "          .format(epoch + 1, num_epochs, train_loss / len(loader_train)))\n",
        "    recon = model(fixed_input.to(device))\n",
        "    recon = denorm(recon.cpu())\n",
        "    save_image(recon, '/content/drive/MyDrive/DC Package/CW/CAE/reconstructed_epoch_{}.png'.format(epoch))\n",
        "    train_losses.append(train_loss/ len(loader_train))\n",
        "\n",
        "# save the model and the loss values\n",
        "np.save('/content/drive/MyDrive/DC Package/CW/CAE/train_losses.npy', np.array(train_losses))\n",
        "torch.save(model.state_dict(), '/content/drive/MyDrive/DC Package/CW/CAE/CAE_model2.pth')"
      ],
      "execution_count": null,
      "outputs": [
        {
          "output_type": "stream",
          "text": [
            "epoch [1/20], loss:0.0600\n",
            "epoch [2/20], loss:0.0254\n",
            "epoch [3/20], loss:0.0210\n",
            "epoch [4/20], loss:0.0189\n",
            "epoch [5/20], loss:0.0175\n",
            "epoch [6/20], loss:0.0168\n",
            "epoch [7/20], loss:0.0164\n",
            "epoch [8/20], loss:0.0159\n",
            "epoch [9/20], loss:0.0157\n",
            "epoch [10/20], loss:0.0153\n",
            "epoch [11/20], loss:0.0152\n",
            "epoch [12/20], loss:0.0151\n",
            "epoch [13/20], loss:0.0151\n",
            "epoch [14/20], loss:0.0147\n",
            "epoch [15/20], loss:0.0148\n",
            "epoch [16/20], loss:0.0147\n",
            "epoch [17/20], loss:0.0145\n",
            "epoch [18/20], loss:0.0145\n",
            "epoch [19/20], loss:0.0144\n",
            "epoch [20/20], loss:0.0144\n"
          ],
          "name": "stdout"
        }
      ]
    },
    {
      "cell_type": "code",
      "metadata": {
        "id": "IDtXVPtquFcq",
        "colab": {
          "base_uri": "https://localhost:8080/"
        },
        "outputId": "5864b4cd-1a77-4ee9-8511-62f97087d390"
      },
      "source": [
        "np.load('/content/drive/MyDrive/train_losses.npy')"
      ],
      "execution_count": null,
      "outputs": [
        {
          "output_type": "execute_result",
          "data": {
            "text/plain": [
              "array([0.05996024, 0.02537435, 0.02101022, 0.01887774, 0.01748713,\n",
              "       0.01677063, 0.01640232, 0.0159025 , 0.01568414, 0.01530316,\n",
              "       0.0152296 , 0.01514446, 0.01511746, 0.01474581, 0.01475927,\n",
              "       0.01474573, 0.01449242, 0.01446305, 0.014386  , 0.01438655])"
            ]
          },
          "metadata": {
            "tags": []
          },
          "execution_count": 3
        }
      ]
    },
    {
      "cell_type": "markdown",
      "metadata": {
        "id": "4lWioQWLuFcl"
      },
      "source": [
        "**Train loss curve**"
      ]
    },
    {
      "cell_type": "code",
      "metadata": {
        "colab": {
          "base_uri": "https://localhost:8080/",
          "height": 281
        },
        "id": "CwdaNFOAuFcm",
        "outputId": "c543e902-7482-45a2-b6b4-96d0b6a0d230"
      },
      "source": [
        "train_losses = np.load('/content/drive/MyDrive/DC Package/CW/CAE/train_losses.npy')\n",
        "plt.plot(list(range(0,train_losses.shape[0])), train_losses)\n",
        "plt.title('Train Loss')\n",
        "plt.show()"
      ],
      "execution_count": null,
      "outputs": [
        {
          "output_type": "display_data",
          "data": {
            "image/png": "[encoded data removed]",
            "text/plain": [
              "<Figure size 432x288 with 1 Axes>"
            ]
          },
          "metadata": {
            "tags": [],
            "needs_background": "light"
          }
        }
      ]
    },
    {
      "cell_type": "markdown",
      "metadata": {
        "id": "1EFfHpNruFcn"
      },
      "source": [
        "**Test set reconstruction error**"
      ]
    },
    {
      "cell_type": "code",
      "metadata": {
        "colab": {
          "base_uri": "https://localhost:8080/"
        },
        "id": "yE96gywNuFcn",
        "outputId": "c1d7f6b3-5f68-4048-880d-dd7ab0c9451f"
      },
      "source": [
        "# load the model\n",
        "model.load_state_dict(torch.load('/content/drive/MyDrive/DC Package/CW/CAE/CAE_model2.pth'))\n",
        "model.eval()\n",
        "test_loss = 0\n",
        "with torch.no_grad():\n",
        "    for i, data in enumerate(loader_test):\n",
        "        img,_ = data\n",
        "        img = img.to(device)\n",
        "        recon_batch = model(img)\n",
        "        test_loss += loss_function_CAE(recon_batch, img)\n",
        "    # loss calculated over the whole test set\n",
        "    test_loss /= len(loader_test.dataset)\n",
        "    print('Test set loss: {:.5f}'.format(test_loss))"
      ],
      "execution_count": null,
      "outputs": [
        {
          "output_type": "stream",
          "text": [
            "Test set loss: 0.00012\n"
          ],
          "name": "stdout"
        }
      ]
    },
    {
      "cell_type": "markdown",
      "metadata": {
        "id": "Slt7y31uuFco"
      },
      "source": [
        "**Test set images**"
      ]
    },
    {
      "cell_type": "code",
      "metadata": {
        "colab": {
          "base_uri": "https://localhost:8080/",
          "height": 275
        },
        "id": "C6zBLtEMuFco",
        "outputId": "3be45cca-6449-4a56-ff59-bf3d32af652b"
      },
      "source": [
        "# load the model\n",
        "model.load_state_dict(torch.load('/content/drive/MyDrive/DC Package/CW/CAE/CAE_model2.pth'))\n",
        "it = iter(loader_test)\n",
        "sample_inputs, _ = next(it)\n",
        "fixed_input = sample_inputs[0:32, :, :, :]\n",
        "\n",
        "# visualize the original images of the last batch of the test set\n",
        "img = make_grid(denorm(fixed_input), nrow=8, padding=2, normalize=False,\n",
        "                range=None, scale_each=False, pad_value=0)\n",
        "\n",
        "show(img)"
      ],
      "execution_count": null,
      "outputs": [
        {
          "output_type": "stream",
          "text": [
            "/usr/local/lib/python3.7/dist-packages/torchvision/utils.py:50: UserWarning: range will be deprecated, please use value_range instead.\n",
            "  warnings.warn(warning)\n"
          ],
          "name": "stderr"
        },
        {
          "output_type": "display_data",
          "data": {
            "image/png": "[encoded data removed]",
            "text/plain": [
              "<Figure size 432x288 with 1 Axes>"
            ]
          },
          "metadata": {
            "tags": [],
            "needs_background": "light"
          }
        }
      ]
    }
  ]
}